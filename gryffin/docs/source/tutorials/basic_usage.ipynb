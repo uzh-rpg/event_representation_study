{
 "cells": [
  {
   "cell_type": "markdown",
   "metadata": {},
   "source": [
    "# Basic Usage"
   ]
  },
  {
   "cell_type": "markdown",
   "metadata": {},
   "source": [
    "This tutorial will demonstrate the most basic Gryffin functionality. We will optimize a single parameter with respect to a simple one dimensional objective function. "
   ]
  },
  {
   "cell_type": "code",
   "execution_count": 1,
   "metadata": {},
   "outputs": [
    {
     "name": "stderr",
     "output_type": "stream",
     "text": [
      "ERROR:root:No traceback has been produced, nothing to debug.\n"
     ]
    }
   ],
   "source": [
    "import os\n",
    "os.environ['TF_CPP_MIN_LOG_LEVEL'] = '3' \n",
    "\n",
    "import numpy as np\n",
    "import pandas as pd\n",
    "from gryffin import Gryffin\n",
    "\n",
    "import matplotlib.pyplot as plt\n",
    "import matplotlib\n",
    "%matplotlib inline\n",
    "\n",
    "import seaborn as sns\n",
    "sns.set(context='talk', style='ticks')"
   ]
  },
  {
   "cell_type": "markdown",
   "metadata": {},
   "source": [
    "Let's define the objective function and a helper function that will parse the Gryffin param dict for us:  "
   ]
  },
  {
   "cell_type": "code",
   "execution_count": 2,
   "metadata": {},
   "outputs": [],
   "source": [
    "def objective(x):\n",
    "    \n",
    "    def sigmoid(x, l, k, x0):\n",
    "        return l / (1 + np.exp(-k*(x-x0)))\n",
    "\n",
    "    sigs = [sigmoid(x, -1, 40, 0.2),\n",
    "            sigmoid(x,  1, 40, 0.4),\n",
    "            sigmoid(x,  -0.7, 50, 0.6),\n",
    "            sigmoid(x, 0.7, 50, 0.9)\n",
    "           ]\n",
    "\n",
    "    return np.sum(sigs, axis=0) + 1\n",
    "\n",
    "def compute_objective(param):\n",
    "    x = param['x']\n",
    "    param['obj'] = objective(x)\n",
    "    return param"
   ]
  },
  {
   "cell_type": "markdown",
   "metadata": {},
   "source": [
    "Unlike in most use-cases, we can now visualize the objective function:"
   ]
  },
  {
   "cell_type": "code",
   "execution_count": 3,
   "metadata": {},
   "outputs": [
    {
     "data": {
      "image/png": "[encoded data removed]",
      "text/plain": [
       "<Figure size 432x288 with 1 Axes>"
      ]
     },
     "metadata": {},
     "output_type": "display_data"
    }
   ],
   "source": [
    "x = np.linspace(0, 1, 100)\n",
    "_ = plt.plot(x, objective(x), linewidth=6, color='#444444')\n",
    "_ = plt.plot(x, objective(x), linewidth=4, label='objective')\n",
    "_ = plt.xlabel('$x$')\n",
    "_ = plt.ylabel('$f(x)$')\n",
    "_ = plt.legend(loc='lower center', ncol=2, bbox_to_anchor=(0.5 ,1.), frameon=False)"
   ]
  },
  {
   "cell_type": "markdown",
   "metadata": {},
   "source": [
    "We define ``Gryffin``'s configuration as a dictionary. Note that the config can also be passed into ``Gryffin`` as a ``json`` file using the ``config_file`` argument. A continuous parameter ``x`` is defined and bounded by ``0.0 < x < 1.0``. We also define a minimization objective."
   ]
  },
  {
   "cell_type": "code",
   "execution_count": 4,
   "metadata": {},
   "outputs": [],
   "source": [
    "config = {\n",
    "    \"parameters\": [\n",
    "        {\"name\": \"x\", \"type\": \"continuous\", \"low\": 0., \"high\": 1., \"size\": 1}\n",
    "    ],\n",
    "    \"objectives\": [\n",
    "        {\"name\": \"obj\", \"goal\": \"min\"}\n",
    "    ]\n",
    "}"
   ]
  },
  {
   "cell_type": "markdown",
   "metadata": {},
   "source": [
    "``Gryffin``'s instance can now be initialized with the configuration above. Here we select ``silent=True`` to suppress the rich display in the notebook. Only warnings and errors will be printed."
   ]
  },
  {
   "cell_type": "code",
   "execution_count": 5,
   "metadata": {},
   "outputs": [],
   "source": [
    "gryffin = Gryffin(config_dict=config, silent=True)"
   ]
  },
  {
   "cell_type": "markdown",
   "metadata": {},
   "source": [
    "In the cell below, we perform a sequential optimization for a maximum of 15 evaluations. "
   ]
  },
  {
   "cell_type": "code",
   "execution_count": 6,
   "metadata": {},
   "outputs": [
    {
     "name": "stdout",
     "output_type": "stream",
     "text": [
      "-------------------- Iteration: 1 --------------------\n"
     ]
    },
    {
     "data": {
      "text/html": [
       "<pre style=\"white-space:pre;overflow-x:auto;line-height:normal;font-family:Menlo,'DejaVu Sans Mono',consolas,'Courier New',monospace\"><span style=\"color: #f4a261; text-decoration-color: #f4a261\">Could not find any observations, falling back to random sampling</span>\n",
       "</pre>\n"
      ],
      "text/plain": [
       "\u001b[38;2;244;162;97mCould not find any observations, falling back to random sampling\u001b[0m\n"
      ]
     },
     "metadata": {},
     "output_type": "display_data"
    },
    {
     "name": "stdout",
     "output_type": "stream",
     "text": [
      "  Proposed Parameters: {'x': 0.85985327} ==> : 0.3829059252850222\n",
      "-------------------- Iteration: 2 --------------------\n",
      "{'bias_loc': 0.0, 'bias_scale': 1.0, 'hidden_shape': 6, 'learning_rate': 0.05, 'num_draws': 1000, 'num_epochs': 2000, 'num_layers': 3, 'weight_loc': 0.0, 'weight_scale': 1.0}\n",
      "here\n",
      "Sequential(\n",
      "  (linear1): BayesLinear(prior_mu=0.0, prior_sigma=1.0, in_features=1, out_features=6, bias=True)\n",
      "  (relu1): ReLU()\n",
      "  (linear2): BayesLinear(prior_mu=0.0, prior_sigma=1.0, in_features=6, out_features=1, bias=True)\n",
      ")\n",
      "BayesLinear(prior_mu=0.0, prior_sigma=1.0, in_features=1, out_features=6, bias=True)\n",
      "here2\n",
      "ReLU()\n",
      "BayesLinear(prior_mu=0.0, prior_sigma=1.0, in_features=6, out_features=1, bias=True)\n",
      "here2\n",
      "{'weight_0': tensor([[-1.6142, -0.8541, -1.0287, -0.8812, -0.0362, -0.9161],\n",
      "        [-1.6296, -2.0786, -0.9523, -0.8295, -0.2203, -1.6839],\n",
      "        [-1.4362, -0.8384, -1.4848, -0.8497, -0.8624, -1.0217],\n",
      "        ...,\n",
      "        [-1.7061, -1.6743, -0.9764, -1.0882, -1.4251, -1.0485],\n",
      "        [-1.6801, -1.4916, -0.9102, -0.7150, -1.0392, -1.2135],\n",
      "        [-1.5762, -1.2191, -1.5172, -1.0660, -1.1869, -0.7096]]), 'bias_0': tensor([[-1.5404, -0.8772, -1.0658, -0.6388, -0.9345, -0.7542],\n",
      "        [-1.8432, -1.4672, -1.0981, -0.7036, -0.7027, -0.9699],\n",
      "        [-1.5911, -1.0813, -1.4145, -0.8012, -0.9155, -0.6964],\n",
      "        ...,\n",
      "        [-1.6194, -1.0552, -0.7723, -0.6375, -0.8930, -0.7536],\n",
      "        [-1.6779, -1.3234, -1.1714, -0.7849, -1.1290, -0.6910],\n",
      "        [-1.7789, -1.3437, -0.9787, -0.9873, -0.7164, -0.8679]]), 'weight_1': tensor([[ 0.5331,  1.7729,  1.1227,  1.1296,  0.9411,  0.6728],\n",
      "        [ 0.8856,  0.1455,  0.6103, -0.7441,  0.6350, -0.0995],\n",
      "        [ 0.2199, -0.1605,  0.1302,  0.3524, -0.8872,  0.8343],\n",
      "        ...,\n",
      "        [ 0.3596, -0.3079, -0.0453, -0.5165,  0.1554,  0.4110],\n",
      "        [ 0.8396, -0.2201, -0.7451,  1.6703, -0.3121, -0.1851],\n",
      "        [ 0.7888,  0.4437, -0.3611,  0.6328,  1.2197,  1.0933]]), 'bias_1': tensor([[ 0.5223,  0.4054,  0.0613,  0.0558,  0.0763,  0.1591],\n",
      "        [ 0.3594,  0.5762,  0.3886, -0.0126,  0.1548,  0.1460],\n",
      "        [ 0.8739, -0.0381,  0.6748, -0.0945, -0.0758,  0.5327],\n",
      "        ...,\n",
      "        [ 0.5928,  0.5441,  0.8780, -0.0446, -0.0041,  0.4008],\n",
      "        [ 0.7220,  0.8011, -0.0934,  0.0332, -0.1782,  0.3133],\n",
      "        [ 1.0521,  0.2524,  0.4532, -0.0044,  0.3840,  0.5770]])}\n",
      "here3\n",
      "dict_keys(['weight_0', 'bias_0', 'weight_1', 'bias_1', 'gamma'])\n",
      "0\n",
      "tensor([[-1.6142, -0.8541, -1.0287, -0.8812, -0.0362, -0.9161],\n",
      "        [-1.6296, -2.0786, -0.9523, -0.8295, -0.2203, -1.6839],\n",
      "        [-1.4362, -0.8384, -1.4848, -0.8497, -0.8624, -1.0217],\n",
      "        ...,\n",
      "        [-1.7061, -1.6743, -0.9764, -1.0882, -1.4251, -1.0485],\n",
      "        [-1.6801, -1.4916, -0.9102, -0.7150, -1.0392, -1.2135],\n",
      "        [-1.5762, -1.2191, -1.5172, -1.0660, -1.1869, -0.7096]])\n",
      "tensor([[0.8599]])\n"
     ]
    },
    {
     "ename": "ValueError",
     "evalue": "matmul: Input operand 1 has a mismatch in its core dimension 0, with gufunc signature (n?,k),(k,m?)->(n?,m?) (size 6 is different from 1)",
     "output_type": "error",
     "traceback": [
      "\u001b[0;31m---------------------------------------------------------------------------\u001b[0m",
      "\u001b[0;31mValueError\u001b[0m                                Traceback (most recent call last)",
      "Input \u001b[0;32mIn [6]\u001b[0m, in \u001b[0;36m<cell line: 4>\u001b[0;34m()\u001b[0m\n\u001b[1;32m      5\u001b[0m \u001b[38;5;28mprint\u001b[39m(\u001b[38;5;124m'\u001b[39m\u001b[38;5;124m-\u001b[39m\u001b[38;5;124m'\u001b[39m\u001b[38;5;241m*\u001b[39m\u001b[38;5;241m20\u001b[39m, \u001b[38;5;124m'\u001b[39m\u001b[38;5;124mIteration:\u001b[39m\u001b[38;5;124m'\u001b[39m, num_iter\u001b[38;5;241m+\u001b[39m\u001b[38;5;241m1\u001b[39m, \u001b[38;5;124m'\u001b[39m\u001b[38;5;124m-\u001b[39m\u001b[38;5;124m'\u001b[39m\u001b[38;5;241m*\u001b[39m\u001b[38;5;241m20\u001b[39m)\n\u001b[1;32m      7\u001b[0m \u001b[38;5;66;03m# Query for new parameters\u001b[39;00m\n\u001b[0;32m----> 8\u001b[0m params \u001b[38;5;241m=\u001b[39m \u001b[43mgryffin\u001b[49m\u001b[38;5;241;43m.\u001b[39;49m\u001b[43mrecommend\u001b[49m\u001b[43m(\u001b[49m\u001b[43mobservations\u001b[49m\u001b[38;5;241;43m=\u001b[39;49m\u001b[43mobservations\u001b[49m\u001b[43m)\u001b[49m\n\u001b[1;32m     10\u001b[0m \u001b[38;5;66;03m# Params is a list of dict, where each dict containts the proposed parameter values, e.g., {'x':0.5}\u001b[39;00m\n\u001b[1;32m     11\u001b[0m \u001b[38;5;66;03m# in this example, len(params) == 1 and we select the single set of parameters proposed\u001b[39;00m\n\u001b[1;32m     12\u001b[0m param \u001b[38;5;241m=\u001b[39m params[\u001b[38;5;241m0\u001b[39m]\n",
      "File \u001b[0;32m/ssd003/home/jwilles/gryffin/src/gryffin/gryffin.py:318\u001b[0m, in \u001b[0;36mGryffin.recommend\u001b[0;34m(self, observations, sampling_strategies, num_batches, as_array)\u001b[0m\n\u001b[1;32m    314\u001b[0m \u001b[38;5;66;03m# ----------------------------------------------\u001b[39;00m\n\u001b[1;32m    315\u001b[0m \u001b[38;5;66;03m# sample bnn to get kernels for all observations\u001b[39;00m\n\u001b[1;32m    316\u001b[0m \u001b[38;5;66;03m# ----------------------------------------------\u001b[39;00m\n\u001b[1;32m    317\u001b[0m \u001b[38;5;28mself\u001b[39m\u001b[38;5;241m.\u001b[39mlog_chapter(\u001b[38;5;124m'\u001b[39m\u001b[38;5;124mBayesian Network\u001b[39m\u001b[38;5;124m'\u001b[39m)\n\u001b[0;32m--> 318\u001b[0m \u001b[38;5;28;43mself\u001b[39;49m\u001b[38;5;241;43m.\u001b[39;49m\u001b[43mbayesian_network\u001b[49m\u001b[38;5;241;43m.\u001b[39;49m\u001b[43msample\u001b[49m\u001b[43m(\u001b[49m\u001b[43mobs_params\u001b[49m\u001b[43m)\u001b[49m  \u001b[38;5;66;03m# infer kernel densities\u001b[39;00m\n\u001b[1;32m    319\u001b[0m \u001b[38;5;66;03m# build kernel smoothing/classification surrogates\u001b[39;00m\n\u001b[1;32m    320\u001b[0m \u001b[38;5;28mself\u001b[39m\u001b[38;5;241m.\u001b[39mbayesian_network\u001b[38;5;241m.\u001b[39mbuild_kernels(descriptors_kwn\u001b[38;5;241m=\u001b[39mdescriptors_kwn, descriptors_feas\u001b[38;5;241m=\u001b[39mdescriptors_feas,\n\u001b[1;32m    321\u001b[0m                                     obs_objs\u001b[38;5;241m=\u001b[39mobs_objs, obs_feas\u001b[38;5;241m=\u001b[39mobs_feas, mask_kwn\u001b[38;5;241m=\u001b[39mmask_kwn)\n",
      "File \u001b[0;32m/ssd003/home/jwilles/gryffin/src/gryffin/bayesian_network/bayesian_network.py:148\u001b[0m, in \u001b[0;36mBayesianNetwork.sample\u001b[0;34m(self, obs_params)\u001b[0m\n\u001b[1;32m    140\u001b[0m     model \u001b[38;5;241m=\u001b[39m trainer\u001b[38;5;241m.\u001b[39mtrain(obs_params)\n\u001b[1;32m    141\u001b[0m     \u001b[38;5;66;03m# trace_kernels = run_tf_network(\u001b[39;00m\n\u001b[1;32m    142\u001b[0m     \u001b[38;5;66;03m#     observed_params=obs_params,\u001b[39;00m\n\u001b[1;32m    143\u001b[0m     \u001b[38;5;66;03m#     frac_feas=self.frac_feas,\u001b[39;00m\n\u001b[1;32m    144\u001b[0m     \u001b[38;5;66;03m#     config=self.config,\u001b[39;00m\n\u001b[1;32m    145\u001b[0m     \u001b[38;5;66;03m#     model_details=self.model_details,\u001b[39;00m\n\u001b[1;32m    146\u001b[0m     \u001b[38;5;66;03m# )\u001b[39;00m\n\u001b[0;32m--> 148\u001b[0m \u001b[38;5;28mself\u001b[39m\u001b[38;5;241m.\u001b[39mtrace_kernels \u001b[38;5;241m=\u001b[39m \u001b[43mmodel\u001b[49m\u001b[38;5;241;43m.\u001b[39;49m\u001b[43mget_kernels\u001b[49m\u001b[43m(\u001b[49m\u001b[43m)\u001b[49m\n\u001b[1;32m    151\u001b[0m \u001b[38;5;66;03m# self.trace_kernels = trace_kernels\u001b[39;00m\n\u001b[1;32m    153\u001b[0m end \u001b[38;5;241m=\u001b[39m time\u001b[38;5;241m.\u001b[39mtime()\n",
      "File \u001b[0;32m/ssd003/home/jwilles/gryffin/src/gryffin/bayesian_network/torch_interface/bnn.py:216\u001b[0m, in \u001b[0;36mBNN.get_kernels\u001b[0;34m(self, num_draws)\u001b[0m\n\u001b[1;32m    214\u001b[0m \u001b[38;5;28;01mif\u001b[39;00m num_draws \u001b[38;5;241m==\u001b[39m \u001b[38;5;28;01mNone\u001b[39;00m:\n\u001b[1;32m    215\u001b[0m     num_draws \u001b[38;5;241m=\u001b[39m \u001b[38;5;28mself\u001b[39m\u001b[38;5;241m.\u001b[39mnum_draws\n\u001b[0;32m--> 216\u001b[0m \u001b[38;5;28;43mself\u001b[39;49m\u001b[38;5;241;43m.\u001b[39;49m\u001b[43m_sample\u001b[49m\u001b[43m(\u001b[49m\u001b[43mnum_draws\u001b[49m\u001b[43m)\u001b[49m\n\u001b[1;32m    218\u001b[0m \u001b[38;5;28mprint\u001b[39m(\u001b[38;5;28mself\u001b[39m\u001b[38;5;241m.\u001b[39mtrace)\n\u001b[1;32m    220\u001b[0m trace_kernels \u001b[38;5;241m=\u001b[39m {\u001b[38;5;124m'\u001b[39m\u001b[38;5;124mlocs\u001b[39m\u001b[38;5;124m'\u001b[39m: [], \u001b[38;5;124m'\u001b[39m\u001b[38;5;124msqrt_precs\u001b[39m\u001b[38;5;124m'\u001b[39m: [], \u001b[38;5;124m'\u001b[39m\u001b[38;5;124mprobs\u001b[39m\u001b[38;5;124m'\u001b[39m: []}\n",
      "File \u001b[0;32m/ssd003/home/jwilles/gryffin/src/gryffin/bayesian_network/torch_interface/bnn.py:203\u001b[0m, in \u001b[0;36mBNN._sample\u001b[0;34m(self, num_draws)\u001b[0m\n\u001b[1;32m    201\u001b[0m \u001b[38;5;28mprint\u001b[39m(\u001b[38;5;124m'\u001b[39m\u001b[38;5;124mhere3\u001b[39m\u001b[38;5;124m'\u001b[39m)\n\u001b[1;32m    202\u001b[0m \u001b[38;5;28mprint\u001b[39m(posterior_samples\u001b[38;5;241m.\u001b[39mkeys())\n\u001b[0;32m--> 203\u001b[0m post_kernels \u001b[38;5;241m=\u001b[39m \u001b[38;5;28;43mself\u001b[39;49m\u001b[38;5;241;43m.\u001b[39;49m\u001b[43mnumpy_graph\u001b[49m\u001b[38;5;241;43m.\u001b[39;49m\u001b[43mcompute_kernels\u001b[49m\u001b[43m(\u001b[49m\u001b[43mposterior_samples\u001b[49m\u001b[43m,\u001b[49m\u001b[43m \u001b[49m\u001b[38;5;28;43mself\u001b[39;49m\u001b[38;5;241;43m.\u001b[39;49m\u001b[43mfrac_feas\u001b[49m\u001b[43m)\u001b[49m\n\u001b[1;32m    205\u001b[0m \u001b[38;5;28mself\u001b[39m\u001b[38;5;241m.\u001b[39mtrace \u001b[38;5;241m=\u001b[39m {}\n\u001b[1;32m    206\u001b[0m \u001b[38;5;28;01mfor\u001b[39;00m key \u001b[38;5;129;01min\u001b[39;00m post_kernels\u001b[38;5;241m.\u001b[39mkeys():\n",
      "File \u001b[0;32m/ssd003/home/jwilles/gryffin/src/gryffin/bayesian_network/tfprob_interface/numpy_graph.py:56\u001b[0m, in \u001b[0;36mNumpyGraph.compute_kernels\u001b[0;34m(self, posteriors, frac_feas)\u001b[0m\n\u001b[1;32m     54\u001b[0m     single_bias   \u001b[38;5;241m=\u001b[39m bias[sample_index]\n\u001b[1;32m     55\u001b[0m     \u001b[38;5;28mprint\u001b[39m(post_layer_outputs[\u001b[38;5;241m-\u001b[39m\u001b[38;5;241m1\u001b[39m][sample_index])\n\u001b[0;32m---> 56\u001b[0m     output \u001b[38;5;241m=\u001b[39m activation( \u001b[43mnp\u001b[49m\u001b[38;5;241;43m.\u001b[39;49m\u001b[43mmatmul\u001b[49m\u001b[43m(\u001b[49m\u001b[43m \u001b[49m\u001b[43mpost_layer_outputs\u001b[49m\u001b[43m[\u001b[49m\u001b[38;5;241;43m-\u001b[39;49m\u001b[38;5;241;43m1\u001b[39;49m\u001b[43m]\u001b[49m\u001b[43m[\u001b[49m\u001b[43msample_index\u001b[49m\u001b[43m]\u001b[49m\u001b[43m,\u001b[49m\u001b[43m \u001b[49m\u001b[43msingle_weight\u001b[49m\u001b[43m)\u001b[49m \u001b[38;5;241m+\u001b[39m single_bias)\n\u001b[1;32m     57\u001b[0m     outputs\u001b[38;5;241m.\u001b[39mappend(output)\n\u001b[1;32m     59\u001b[0m post_layer_output \u001b[38;5;241m=\u001b[39m np\u001b[38;5;241m.\u001b[39marray(outputs)\n",
      "\u001b[0;31mValueError\u001b[0m: matmul: Input operand 1 has a mismatch in its core dimension 0, with gufunc signature (n?,k),(k,m?)->(n?,m?) (size 6 is different from 1)"
     ]
    }
   ],
   "source": [
    "%debug\n",
    "\n",
    "observations = []\n",
    "MAX_ITER = 15\n",
    "\n",
    "for num_iter in range(MAX_ITER):\n",
    "    print('-'*20, 'Iteration:', num_iter+1, '-'*20)\n",
    "    \n",
    "    # Query for new parameters\n",
    "    params = gryffin.recommend(observations=observations)\n",
    "    \n",
    "    # Params is a list of dict, where each dict containts the proposed parameter values, e.g., {'x':0.5}\n",
    "    # in this example, len(params) == 1 and we select the single set of parameters proposed\n",
    "    param = params[0]\n",
    "    print('  Proposed Parameters:', param, end=' ')\n",
    "        \n",
    "    # Evaluate the proposed parameters. \"compute_objective\" takes param, which is a dict, and adds the key \"obj\" with the\n",
    "    # objective function value\n",
    "    observation = compute_objective(param)\n",
    "    print('==> :', observation['obj'])\n",
    "    \n",
    "    # Append this observation to the previous experiments\n",
    "    observations.append(observation)"
   ]
  },
  {
   "cell_type": "markdown",
   "metadata": {},
   "source": [
    "Let's now plot all the parameters that have been probed and the best solution found."
   ]
  },
  {
   "cell_type": "code",
   "execution_count": null,
   "metadata": {},
   "outputs": [],
   "source": [
    "# objective function\n",
    "x = np.linspace(0, 1, 100)\n",
    "y = [objective(x_i) for x_i in x]\n",
    "\n",
    "# observed parameters and objectives\n",
    "samples_x = [obs['x'] for obs in observations]\n",
    "samples_y = [obs['obj'] for obs in observations]\n",
    "\n",
    "_ = plt.plot(x, y, linewidth=6, color='#444444')\n",
    "_ = plt.plot(x, y, linewidth=4, label='objective')\n",
    "\n",
    "_ = plt.scatter(samples_x, samples_y, zorder=10, s=150, color='r', edgecolor='#444444', label='samples')\n",
    "\n",
    "# highlight best\n",
    "_ = plt.scatter(samples_x[np.argmin(samples_y)], np.min(samples_y), zorder=11, s=150, \n",
    "                color='yellow', edgecolor='#444444', label='best')\n",
    "\n",
    "# labels\n",
    "_ = plt.xlabel('$x$')\n",
    "_ = plt.ylabel('$f(x)$')\n",
    "_ = plt.legend(loc='lower center', ncol=3, bbox_to_anchor=(0.5 ,1.), frameon=False)"
   ]
  },
  {
   "cell_type": "code",
   "execution_count": null,
   "metadata": {},
   "outputs": [],
   "source": []
  }
 ],
 "metadata": {
  "kernelspec": {
   "display_name": "gryffin-torch",
   "language": "python",
   "name": "gryffin-torch"
  },
  "language_info": {
   "codemirror_mode": {
    "name": "ipython",
    "version": 3
   },
   "file_extension": ".py",
   "mimetype": "text/x-python",
   "name": "python",
   "nbconvert_exporter": "python",
   "pygments_lexer": "ipython3",
   "version": "3.9.12"
  }
 },
 "nbformat": 4,
 "nbformat_minor": 4
}
