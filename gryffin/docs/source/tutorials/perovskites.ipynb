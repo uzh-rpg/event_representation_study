{
 "cells": [
  {
   "cell_type": "markdown",
   "id": "bored-wheel",
   "metadata": {},
   "source": [
    "# Perovskites\n",
    "\n",
    "In this tutorial, we will introduce optimization of categorical parameters using Gryffin using a real-world application from materials science. Namely, we will consider optimization of the bandgap of hybrid organic-inorganic perovskite (HOIP) solar cells. This example is taken directly from Section V.B. in the Gryffin [paper](https://aip.scitation.org/doi/full/10.1063/5.0048164) entitled _Discovery of hybrid oraginc-inorganic perovskies_\n",
    "\n",
    "Perovskites solar cells are a promising class of ligh harvesting materials and are typically comprised of inorganic lead halide matrices and contain inorganic or organic anions. This application concerns the design of of hybrid organic-inorganic perovskites (HOIPs) based on a recently reported [dataset](https://www.nature.com/articles/sdata201757). The HOIP candidates of this dataset are designed from a set of four different halide anions, three different group-IV cations and 16 different organic anions, resulting in 192 unique HOIP candidate materials.\n",
    "\n",
    "This example will also detail the use of physicochemical descriptors for the options of categorical variables to further accelerate the optimization rate of Gryffin."
   ]
  },
  {
   "cell_type": "code",
   "execution_count": 1,
   "id": "enclosed-banks",
   "metadata": {},
   "outputs": [],
   "source": [
    "import pickle\n",
    "import numpy as np\n",
    "import pandas as pd\n",
    "import os\n",
    "os.environ['TF_CPP_MIN_LOG_LEVEL'] = '3'"
   ]
  },
  {
   "cell_type": "code",
   "execution_count": 2,
   "id": "announced-reality",
   "metadata": {},
   "outputs": [],
   "source": [
    "from gryffin import Gryffin"
   ]
  },
  {
   "cell_type": "markdown",
   "id": "c737928b",
   "metadata": {},
   "source": [
    "First, we will set some variables that will parameterize our optimization campaign. `budget` indicates the number of bandgap measurements we intend on making. `sampling_strategies` represent the values of $\\lambda$ used by Gryffin's acquisition function. `with_desc` indicates whether or not to utilize the descriptors of the perovskite components. `dynamic` indicates whether or not to use the dynamic formulation of Gryffin to refine the provided descriptors."
   ]
  },
  {
   "cell_type": "code",
   "execution_count": 3,
   "id": "necessary-catch",
   "metadata": {},
   "outputs": [],
   "source": [
    "budget = 192\n",
    "sampling_strategies = np.array([-1, 1])\n",
    "with_desc = True\n",
    "dynamic = True\n",
    "random_seed = 2020"
   ]
  },
  {
   "cell_type": "code",
   "execution_count": 4,
   "id": "encouraging-lambda",
   "metadata": {},
   "outputs": [],
   "source": [
    "# the categorical options corresponding to the minimum bandgap in the dataset (optimum)\n",
    "optimum = ['hydrazinium', 'I', 'Sn'] # value = 1.5249 eV"
   ]
  },
  {
   "cell_type": "code",
   "execution_count": 5,
   "id": "prescribed-bargain",
   "metadata": {},
   "outputs": [],
   "source": [
    "# load in the perovskites dataset as a pandas DataFrame\n",
    "lookup_df = pickle.load(open('perovskites.pkl', 'rb'))"
   ]
  },
  {
   "cell_type": "code",
   "execution_count": 6,
   "id": "banner-advocate",
   "metadata": {},
   "outputs": [],
   "source": [
    "# helper functions\n",
    "def measure(param):\n",
    "    ''' lookup the HSEO6 bandgap for given perovskite composition\n",
    "    '''\n",
    "    match = lookup_df.loc[\n",
    "                (lookup_df.organic == param['organic']) &\n",
    "                (lookup_df.anion == param['anion']) &\n",
    "                (lookup_df.cation == param['cation'])\n",
    "        ]\n",
    "    assert len(match)==1\n",
    "    bandgap = match.loc[:, 'hse06'].to_numpy()[0]\n",
    "    return bandgap\n",
    "\n",
    "def get_descriptors(element, kind):\n",
    "    ''' retrive the descriptors for a given categorical variable option\n",
    "    '''\n",
    "    return lookup_df.loc[(lookup_df[kind]==element)].loc[:, lookup_df.columns.str.startswith(f'{kind}-')].values[0].tolist()"
   ]
  },
  {
   "cell_type": "markdown",
   "id": "9fcf79c6",
   "metadata": {},
   "source": [
    "We will now prepare the descriptors for use with Gryffin. The three categorical variables which together comprise a perovskite material are \n",
    "\n",
    "* halide anions, `anion` (4 options)\n",
    "* group-IV cations, `cation` (3 options)\n",
    "* organic anions, `organic` (16 options)\n",
    "\n",
    "A depiction of the HOIP space is shown below.\n",
    "\n",
    "<div>\n",
    "<img src=\"assets/hoip_space.png\" width=\"600\"/>\n",
    "</div>\n",
    "\n",
    "We characterize the inorganic constituents (`anion` and `cation`) by their electron affinity, ionization energy, mass, and electronegatvity. Organic components are described by their HOMO and LUMO energies, dipole moment, atomization energy, radius of gyration, and molecular weight.\n",
    "\n",
    "For categorcial variables with descriptors, Gryffin accepts a dictonary of descriptors in the following form \n",
    "\n",
    "` descriptors = {'option_0_name': [option_0_desc_0, option_0_desc_1, ...], 'option_1_name':, [...], ...}`\n",
    "\n",
    "For the naive formulation of Gryffin (essentially one-hot-encoding of categorical variables), one should use the following descriptor format\n",
    "\n",
    "` descriptors = {'option_0_name': None, 'option_1_name':, None, ...}`\n",
    "\n",
    "The dictionary `descritptors` can then be passed into the Gryffin config as shown below (with the key `category_details`)"
   ]
  },
  {
   "cell_type": "code",
   "execution_count": 7,
   "id": "familiar-converter",
   "metadata": {},
   "outputs": [],
   "source": [
    "# prepare descriptors\n",
    "organic_options = lookup_df.organic.unique().tolist()\n",
    "anion_options = lookup_df.anion.unique().tolist()\n",
    "cation_options = lookup_df.cation.unique().tolist()"
   ]
  },
  {
   "cell_type": "code",
   "execution_count": 8,
   "id": "assigned-advertiser",
   "metadata": {},
   "outputs": [],
   "source": [
    "if with_desc:\n",
    "    # use physicochemical descriptors - static or dynamic gryffin\n",
    "    desc_organic = {option: get_descriptors(option, 'organic') for option in organic_options}\n",
    "    desc_anion = {option: get_descriptors(option, 'anion') for option in anion_options}\n",
    "    desc_cation = {option: get_descriptors(option, 'cation') for option in cation_options}\n",
    "else:\n",
    "    # no descriptors - naive gryffin\n",
    "    desc_organic = {option: None for option in organic_options}\n",
    "    desc_anion = {option: None for option in anion_options}\n",
    "    desc_cation = {option: None for option in cation_options}"
   ]
  },
  {
   "cell_type": "code",
   "execution_count": 9,
   "id": "compressed-limitation",
   "metadata": {},
   "outputs": [],
   "source": [
    "# gryffin config\n",
    "config = {\n",
    "    \"general\": {\n",
    "        \"num_cpus\": 4,\n",
    "        \"auto_desc_gen\": dynamic,\n",
    "        \"batches\": 1,\n",
    "        \"sampling_strategies\": 1,\n",
    "        \"boosted\":  False,\n",
    "        \"caching\": True,\n",
    "        \"random_seed\": random_seed,\n",
    "        \"acquisition_optimizer\": \"genetic\",\n",
    "        \"verbosity\": 3\n",
    "    },\n",
    "    \"parameters\": [\n",
    "        {\"name\": \"organic\", \"type\": \"categorical\", 'options': organic_options, 'category_details': desc_organic},\n",
    "        {\"name\": \"anion\", \"type\": \"categorical\", 'options': anion_options, 'category_details': desc_anion},\n",
    "        {\"name\": \"cation\", \"type\": \"categorical\",  'options': cation_options, 'category_details': desc_cation},\n",
    "    ],\n",
    "    \"objectives\": [\n",
    "        {\"name\": \"bandgap\", \"goal\": \"min\"},\n",
    "    ]\n",
    "}"
   ]
  },
  {
   "cell_type": "markdown",
   "id": "43d78e83",
   "metadata": {},
   "source": [
    "Once we have set the config, we are ready to commence with the optimization campaign. Here, we measure perovskite bandgaps sequentially (one-at-a-time) using alternating sampling strategies which in this case corresponds to alternating exploitative/explorative behaviour. We continue the optimization until we reach the global optimum (defined above) or we exhaust our budget. "
   ]
  },
  {
   "cell_type": "code",
   "execution_count": 11,
   "id": "allied-scale",
   "metadata": {},
   "outputs": [
    {
     "name": "stdout",
     "output_type": "stream",
     "text": [
      "-------------------- Iteration: 1 --------------------\n"
     ]
    },
    {
     "data": {
      "text/html": [
       "<pre style=\"white-space:pre;overflow-x:auto;line-height:normal;font-family:Menlo,'DejaVu Sans Mono',consolas,'Courier New',monospace\"><span style=\"color: #f4a261; text-decoration-color: #f4a261\">Could not find any observations, falling back to random sampling</span>\n",
       "</pre>\n"
      ],
      "text/plain": [
       "\u001b[38;2;244;162;97mCould not find any observations, falling back to random sampling\u001b[0m\n"
      ]
     },
     "metadata": {},
     "output_type": "display_data"
    },
    {
     "name": "stdout",
     "output_type": "stream",
     "text": [
      "SAMPLES : [{'organic': 'dimethylammonium', 'anion': 'Cl', 'cation': 'Pb', 'bandgap': 3.3139}]\n",
      "MEASUREMENT : 3.3139\n",
      "-------------------- Iteration: 2 --------------------\n",
      "SAMPLES : [{'organic': 'ethylammonium', 'anion': 'Br', 'cation': 'Pb', 'bandgap': 2.5996}]\n",
      "MEASUREMENT : 2.5996\n",
      "-------------------- Iteration: 3 --------------------\n",
      "SAMPLES : [{'organic': 'ammonium', 'anion': 'F', 'cation': 'Sn', 'bandgap': 4.9081}]\n",
      "MEASUREMENT : 4.9081\n",
      "-------------------- Iteration: 4 --------------------\n",
      "SAMPLES : [{'organic': 'ethylammonium', 'anion': 'I', 'cation': 'Pb', 'bandgap': 2.2316}]\n",
      "MEASUREMENT : 2.2316\n",
      "-------------------- Iteration: 5 --------------------\n"
     ]
    },
    {
     "data": {
      "text/html": [
       "<pre style=\"white-space:pre;overflow-x:auto;line-height:normal;font-family:Menlo,'DejaVu Sans Mono',consolas,'Courier New',monospace\"></pre>\n"
      ],
      "text/plain": []
     },
     "metadata": {},
     "output_type": "display_data"
    },
    {
     "name": "stdout",
     "output_type": "stream",
     "text": [
      "SAMPLES : [{'organic': 'butylammonium', 'anion': 'F', 'cation': 'Sn', 'bandgap': 4.8539}]\n",
      "MEASUREMENT : 4.8539\n",
      "-------------------- Iteration: 6 --------------------\n"
     ]
    },
    {
     "data": {
      "text/html": [
       "<pre style=\"white-space:pre;overflow-x:auto;line-height:normal;font-family:Menlo,'DejaVu Sans Mono',consolas,'Courier New',monospace\"></pre>\n"
      ],
      "text/plain": []
     },
     "metadata": {},
     "output_type": "display_data"
    },
    {
     "name": "stdout",
     "output_type": "stream",
     "text": [
      "SAMPLES : [{'organic': 'guanidinium', 'anion': 'I', 'cation': 'Pb', 'bandgap': 2.3586}]\n",
      "MEASUREMENT : 2.3586\n",
      "-------------------- Iteration: 7 --------------------\n"
     ]
    },
    {
     "data": {
      "text/html": [
       "<pre style=\"white-space:pre;overflow-x:auto;line-height:normal;font-family:Menlo,'DejaVu Sans Mono',consolas,'Courier New',monospace\"></pre>\n"
      ],
      "text/plain": []
     },
     "metadata": {},
     "output_type": "display_data"
    },
    {
     "name": "stdout",
     "output_type": "stream",
     "text": [
      "SAMPLES : [{'organic': 'tetramethylammonium', 'anion': 'I', 'cation': 'Pb', 'bandgap': 2.5415}]\n",
      "MEASUREMENT : 2.5415\n",
      "-------------------- Iteration: 8 --------------------\n"
     ]
    },
    {
     "data": {
      "text/html": [
       "<pre style=\"white-space:pre;overflow-x:auto;line-height:normal;font-family:Menlo,'DejaVu Sans Mono',consolas,'Courier New',monospace\"></pre>\n"
      ],
      "text/plain": []
     },
     "metadata": {},
     "output_type": "display_data"
    },
    {
     "name": "stdout",
     "output_type": "stream",
     "text": [
      "SAMPLES : [{'organic': 'propylammonium', 'anion': 'I', 'cation': 'Pb', 'bandgap': 2.52}]\n",
      "MEASUREMENT : 2.52\n",
      "-------------------- Iteration: 9 --------------------\n"
     ]
    },
    {
     "data": {
      "text/html": [
       "<pre style=\"white-space:pre;overflow-x:auto;line-height:normal;font-family:Menlo,'DejaVu Sans Mono',consolas,'Courier New',monospace\"></pre>\n"
      ],
      "text/plain": []
     },
     "metadata": {},
     "output_type": "display_data"
    },
    {
     "name": "stdout",
     "output_type": "stream",
     "text": [
      "SAMPLES : [{'organic': 'hydrazinium', 'anion': 'I', 'cation': 'Ge', 'bandgap': 1.8829}]\n",
      "MEASUREMENT : 1.8829\n",
      "-------------------- Iteration: 10 --------------------\n"
     ]
    },
    {
     "data": {
      "text/html": [
       "<pre style=\"white-space:pre;overflow-x:auto;line-height:normal;font-family:Menlo,'DejaVu Sans Mono',consolas,'Courier New',monospace\"></pre>\n"
      ],
      "text/plain": []
     },
     "metadata": {},
     "output_type": "display_data"
    },
    {
     "name": "stdout",
     "output_type": "stream",
     "text": [
      "SAMPLES : [{'organic': 'hydrazinium', 'anion': 'Br', 'cation': 'Pb', 'bandgap': 3.1859}]\n",
      "MEASUREMENT : 3.1859\n",
      "-------------------- Iteration: 11 --------------------\n"
     ]
    },
    {
     "data": {
      "text/html": [
       "<pre style=\"white-space:pre;overflow-x:auto;line-height:normal;font-family:Menlo,'DejaVu Sans Mono',consolas,'Courier New',monospace\"></pre>\n"
      ],
      "text/plain": []
     },
     "metadata": {},
     "output_type": "display_data"
    },
    {
     "name": "stdout",
     "output_type": "stream",
     "text": [
      "SAMPLES : [{'organic': 'hydrazinium', 'anion': 'I', 'cation': 'Sn', 'bandgap': 1.5249}]\n",
      "MEASUREMENT : 1.5249\n",
      "FOUND OPTIMUM AFTER 11 ITERATIONS!\n"
     ]
    }
   ],
   "source": [
    "observations = []\n",
    "\n",
    "# initialize gryffin\n",
    "gryffin =  Gryffin(config_dict=config, silent=True)\n",
    "\n",
    "for num_iter in range(budget):\n",
    "    print('-'*20, 'Iteration:', num_iter+1, '-'*20)\n",
    "\n",
    "    # alternating sampling strategies, assuming batch size of 1\n",
    "    idx = num_iter % len(sampling_strategies)\n",
    "    sampling_strategy = sampling_strategies[idx]\n",
    "\n",
    "    # ask Gryffin for a new sample\n",
    "    samples = gryffin.recommend(observations=observations, sampling_strategies=[sampling_strategy])\n",
    "\n",
    "    measurement = measure(samples[0])\n",
    "    samples[0]['bandgap'] = measurement\n",
    "    observations.extend(samples)\n",
    "    print(f'SAMPLES : {samples}')\n",
    "    print(f'MEASUREMENT : {measurement}')\n",
    "#     print(f'ITER : {num_iter}\\tSAMPLES : {samples}\\t MEASUREMENT : {measurement}')\n",
    "\n",
    "\n",
    "    # check for convergence\n",
    "    if [samples[0]['organic'], samples[0]['anion'], samples[0]['cation']] == optimum:\n",
    "        print(f'FOUND OPTIMUM AFTER {num_iter+1} ITERATIONS!')\n",
    "        break\n"
   ]
  },
  {
   "cell_type": "markdown",
   "id": "270d25e0",
   "metadata": {},
   "source": [
    "After repeated executions of this experiment, one can compare the average performance of different optimization strategies based on their ability to efficeintly identify HOIP candidates with promising bandgaps. For instance, in the plot below we compare various optimization strategies using the percentage of the parameter space explored before identifying the candidate with the smallest bandgap. Efficient optimizers will thus need to explore a smaller fraction of the space before measuring the optimum.\n",
    "\n",
    "<div>\n",
    "<img src=\"assets/hoip_optimizer_performance.png\" width=\"600\"/>\n",
    "</div>\n",
    "\n",
    "\n"
   ]
  }
 ],
 "metadata": {
  "kernelspec": {
   "display_name": "gryffin-demo",
   "language": "python",
   "name": "gryffin-demo"
  },
  "language_info": {
   "codemirror_mode": {
    "name": "ipython",
    "version": 3
   },
   "file_extension": ".py",
   "mimetype": "text/x-python",
   "name": "python",
   "nbconvert_exporter": "python",
   "pygments_lexer": "ipython3",
   "version": "3.9.12"
  }
 },
 "nbformat": 4,
 "nbformat_minor": 5
}
